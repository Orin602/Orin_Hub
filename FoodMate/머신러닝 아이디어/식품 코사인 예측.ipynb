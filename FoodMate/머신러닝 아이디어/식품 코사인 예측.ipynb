{
 "cells": [
  {
   "cell_type": "code",
   "execution_count": 2,
   "id": "778c8f95-5064-4b1e-bbd9-500c095d8a7c",
   "metadata": {},
   "outputs": [
    {
     "name": "stdout",
     "output_type": "stream",
     "text": [
      "<class 'pandas.core.frame.DataFrame'>\n",
      "RangeIndex: 165897 entries, 0 to 165896\n",
      "Data columns (total 16 columns):\n",
      " #   Column                 Non-Null Count   Dtype  \n",
      "---  ------                 --------------   -----  \n",
      " 0   Unnamed: 0             165897 non-null  int64  \n",
      " 1   Name                   165897 non-null  object \n",
      " 2   Images                 165896 non-null  object \n",
      " 3   RecipeCategory         165715 non-null  object \n",
      " 4   Keywords               161515 non-null  object \n",
      " 5   RecipeIngredientParts  165897 non-null  object \n",
      " 6   Calories               165897 non-null  float64\n",
      " 7   FatContent             165897 non-null  float64\n",
      " 8   SaturatedFatContent    165897 non-null  float64\n",
      " 9   CholesterolContent     165897 non-null  float64\n",
      " 10  SodiumContent          165897 non-null  float64\n",
      " 11  CarbohydrateContent    165897 non-null  float64\n",
      " 12  FiberContent           165897 non-null  float64\n",
      " 13  SugarContent           165897 non-null  float64\n",
      " 14  ProteinContent         165897 non-null  float64\n",
      " 15  RecipeInstructions     165897 non-null  object \n",
      "dtypes: float64(9), int64(1), object(6)\n",
      "memory usage: 20.3+ MB\n"
     ]
    }
   ],
   "source": [
    "import pandas as pd\n",
    "\n",
    "food = pd.read_csv('./foodData4_24.csv')\n",
    "food.info()"
   ]
  },
  {
   "cell_type": "code",
   "execution_count": 4,
   "id": "2cefca7a-3959-40b2-80a2-74a7ba4b5bfe",
   "metadata": {},
   "outputs": [
    {
     "data": {
      "text/plain": [
       "array(['Dessert, Low Protein, Low Cholesterol, Healthy, Free Of..., Summer, Weeknight, Freezer, Easy',\n",
       "       'Chicken Thigh & Leg, Chicken, Poultry, Meat, Asian, Indian, Weeknight, Stove Top',\n",
       "       'Low Protein, Low Cholesterol, Healthy, Summer, < 60 Mins', ...,\n",
       "       'Meat, South American, < 30 Mins, For Large Groups',\n",
       "       'High In..., Weeknight, < 30 Mins, Easy, Inexpensive, From Scratch',\n",
       "       'Nuts, Chinese, Asian, < 60 Mins'], dtype=object)"
      ]
     },
     "execution_count": 4,
     "metadata": {},
     "output_type": "execute_result"
    }
   ],
   "source": [
    "food['Keywords'].unique()"
   ]
  },
  {
   "cell_type": "code",
   "execution_count": 12,
   "id": "9ef8973a-bdd8-473e-a397-896ac7d8fc04",
   "metadata": {},
   "outputs": [
    {
     "name": "stdout",
     "output_type": "stream",
     "text": [
      "Keywords\n",
      "< 15 Mins, Easy                                                                                             3094\n",
      "Easy                                                                                                        3021\n",
      "< 60 Mins                                                                                                   2767\n",
      "< 4 Hours                                                                                                   1827\n",
      "< 30 Mins                                                                                                   1825\n",
      "                                                                                                            ... \n",
      "Dessert, Berries, Fruit, Low Protein, Brunch, < 60 Mins, Easy                                                  1\n",
      "Ham, Pork, Poultry, Meat, < 30 Mins, Refrigerator                                                              1\n",
      "Cookie & Brownie, Grains, Kid Friendly, Christmas, Mixer, Oven, Refrigerator, Small Appliance, < 4 Hours       1\n",
      "Egg Free, Free Of..., Brunch, For Large Groups, Refrigerator, < 4 Hours, Easy                                  1\n",
      "Nuts, Chinese, Asian, < 60 Mins                                                                                1\n",
      "Name: count, Length: 86097, dtype: int64\n"
     ]
    }
   ],
   "source": [
    "import numpy as np\n",
    "# 고유한 키워드의 배열 가져오기\n",
    "unique_keywords = food['Keywords'].unique()\n",
    "\n",
    "# 고유한 키워드의 개수\n",
    "num_unique_keywords = len(unique_keywords)\n",
    "\n",
    "# 각 키워드의 등장 횟수 구하기\n",
    "keyword_counts = food['Keywords'].value_counts()\n",
    "print(keyword_counts)"
   ]
  },
  {
   "cell_type": "code",
   "execution_count": 24,
   "id": "c9978040-35af-4727-ac46-828308894515",
   "metadata": {},
   "outputs": [
    {
     "name": "stdout",
     "output_type": "stream",
     "text": [
      "37                Appetizers-Easy Stuffed Mushrooms\n",
      "38                                   Anzac Biscuits\n",
      "74                               Blue Jimmy Pillows\n",
      "151                               Golden Baked Fish\n",
      "198       Vegetarian Baked Stuffed Red Bell Peppers\n",
      "                            ...                    \n",
      "107634                         Chili Cornbread Bake\n",
      "120833              Oven Baked  Spicy Wedgie  Fries\n",
      "127500                         Chow Mein Hot Dish I\n",
      "157598             Troops BBQ Pizza Oven Taco Pizza\n",
      "163228             Garlic &amp; Lemon Tri-Tip Roast\n",
      "Name: Name, Length: 109, dtype: object\n"
     ]
    }
   ],
   "source": [
    "dessert = food[food['Keywords'] == 'Oven']\n",
    "print(dessert['Name'])"
   ]
  },
  {
   "cell_type": "code",
   "execution_count": 25,
   "id": "d3ff8919-d6fd-42af-99f3-27d51cfe8738",
   "metadata": {},
   "outputs": [],
   "source": [
    "from sklearn.feature_extraction.text import TfidfVectorizer\n",
    "from sklearn.metrics.pairwise import cosine_similarity"
   ]
  },
  {
   "cell_type": "code",
   "execution_count": 29,
   "id": "3623b711-5afb-4b09-8083-c5f9a78d611f",
   "metadata": {},
   "outputs": [],
   "source": [
    "food['Keywords'] = food['Keywords'].fillna('')"
   ]
  },
  {
   "cell_type": "code",
   "execution_count": 30,
   "id": "00a249c7-2219-4c4f-82d5-5e65a0c2300a",
   "metadata": {},
   "outputs": [
    {
     "name": "stdout",
     "output_type": "stream",
     "text": [
      "TF-IDF 행렬의 크기(shape) : (165897, 339)\n"
     ]
    }
   ],
   "source": [
    "# 각 단어의 중요성을 계산\n",
    "tfidf = TfidfVectorizer(stop_words='english')\n",
    "tfidf_matrix = tfidf.fit_transform(food['Keywords'])\n",
    "print('TF-IDF 행렬의 크기(shape) :',tfidf_matrix.shape)"
   ]
  },
  {
   "cell_type": "code",
   "execution_count": 32,
   "id": "77870e26-efde-4de9-a807-c2136cd0f3e1",
   "metadata": {},
   "outputs": [
    {
     "name": "stdout",
     "output_type": "stream",
     "text": [
      "코사인 유사도 연산 결과 : (20000, 20000)\n"
     ]
    }
   ],
   "source": [
    "# cosine_similarity(문서1, 문서2)\n",
    "# 문서1과 문서2의 코사인 유사도 연산(배열)\n",
    "cosine_sim = cosine_similarity(tfidf_matrix[:20000], tfidf_matrix[:20000])\n",
    "print('코사인 유사도 연산 결과 :',cosine_sim.shape)"
   ]
  },
  {
   "cell_type": "code",
   "execution_count": 40,
   "id": "adfd733c-5896-4767-a1a8-135fe7f72e6a",
   "metadata": {},
   "outputs": [
    {
     "name": "stdout",
     "output_type": "stream",
     "text": [
      "1\n"
     ]
    }
   ],
   "source": [
    "name_to_index = dict(zip(food['Name'], food.index))\n",
    "\n",
    "# 음식 이름 Biryani 의 인덱스를 리턴\n",
    "idx = name_to_index['Biryani']  #음식기반, 키워드 기반으로 수정해야함\n",
    "print(idx)"
   ]
  },
  {
   "cell_type": "code",
   "execution_count": 41,
   "id": "77517bac-8db1-4adb-9284-73b1861e92f2",
   "metadata": {},
   "outputs": [],
   "source": [
    "def get_recommendations(Name, cosine_sim=cosine_sim):\n",
    "    # 선택한 음식의 이름으로부터 해당 음식의 인덱스를 받아온다.\n",
    "    idx = name_to_index[Name]\n",
    "\n",
    "    # 해당 영화와 모든 영화와의 유사도를 가져온다.\n",
    "    sim_scores = list(enumerate(cosine_sim[idx]))\n",
    "\n",
    "    # 유사도에 따라 음식들을 정렬한다.\n",
    "    sim_scores = sorted(sim_scores, key=lambda x: x[1], reverse=True)\n",
    "\n",
    "    # 가장 유사한 10개의 음식을 받아온다.\n",
    "    sim_scores = sim_scores[1:11]\n",
    "\n",
    "    # 가장 유사한 10개의 음식의 인덱스를 얻는다.\n",
    "    food_indices = [idx[0] for idx in sim_scores]\n",
    "\n",
    "    # 가장 유사한 10개의 움식의 제목을 리턴한다.\n",
    "    return food['Name'].iloc[food_indices]"
   ]
  },
  {
   "cell_type": "code",
   "execution_count": 37,
   "id": "de675526-f8f1-44b1-ae7a-4b5dfae26566",
   "metadata": {},
   "outputs": [
    {
     "data": {
      "text/plain": [
       "10995           Crock Pot Cider-Braised Chicken\n",
       "18696            Hoisin Five-Spice Chicken Legs\n",
       "525                    Slow Cooker Chicken Stew\n",
       "5993                Chipotle Oven Fried Chicken\n",
       "184                     Curried Chicken Muffins\n",
       "16621        Chicken Ceylon with Massalla Gravy\n",
       "18165    Uncle Bill's Barbecue Tandoori Chicken\n",
       "18666                           Caramel Chicken\n",
       "16786                 Sweet and Sour Drumsticks\n",
       "36                                Chicken Curry\n",
       "Name: Name, dtype: object"
      ]
     },
     "execution_count": 37,
     "metadata": {},
     "output_type": "execute_result"
    }
   ],
   "source": [
    "get_recommendations(\"Biryani\")"
   ]
  },
  {
   "cell_type": "code",
   "execution_count": 38,
   "id": "6c13c026-5abd-4f09-8499-4e2ea0be29de",
   "metadata": {},
   "outputs": [
    {
     "data": {
      "text/html": [
       "<div>\n",
       "<style scoped>\n",
       "    .dataframe tbody tr th:only-of-type {\n",
       "        vertical-align: middle;\n",
       "    }\n",
       "\n",
       "    .dataframe tbody tr th {\n",
       "        vertical-align: top;\n",
       "    }\n",
       "\n",
       "    .dataframe thead th {\n",
       "        text-align: right;\n",
       "    }\n",
       "</style>\n",
       "<table border=\"1\" class=\"dataframe\">\n",
       "  <thead>\n",
       "    <tr style=\"text-align: right;\">\n",
       "      <th></th>\n",
       "      <th>Unnamed: 0</th>\n",
       "      <th>Name</th>\n",
       "      <th>Images</th>\n",
       "      <th>RecipeCategory</th>\n",
       "      <th>Keywords</th>\n",
       "      <th>RecipeIngredientParts</th>\n",
       "      <th>Calories</th>\n",
       "      <th>FatContent</th>\n",
       "      <th>SaturatedFatContent</th>\n",
       "      <th>CholesterolContent</th>\n",
       "      <th>SodiumContent</th>\n",
       "      <th>CarbohydrateContent</th>\n",
       "      <th>FiberContent</th>\n",
       "      <th>SugarContent</th>\n",
       "      <th>ProteinContent</th>\n",
       "      <th>RecipeInstructions</th>\n",
       "    </tr>\n",
       "  </thead>\n",
       "  <tbody>\n",
       "    <tr>\n",
       "      <th>1</th>\n",
       "      <td>1</td>\n",
       "      <td>Biryani</td>\n",
       "      <td>https://img.sndimg.com/food/image/upload/w_555...</td>\n",
       "      <td>Chicken Breast</td>\n",
       "      <td>Chicken Thigh &amp; Leg, Chicken, Poultry, Meat, A...</td>\n",
       "      <td>saffron, milk, hot green chili peppers, onions...</td>\n",
       "      <td>1110.7</td>\n",
       "      <td>58.8</td>\n",
       "      <td>16.6</td>\n",
       "      <td>372.8</td>\n",
       "      <td>368.4</td>\n",
       "      <td>84.4</td>\n",
       "      <td>9.0</td>\n",
       "      <td>20.4</td>\n",
       "      <td>63.4</td>\n",
       "      <td>Soak saffron in warm milk for 5 minutes and pu...</td>\n",
       "    </tr>\n",
       "  </tbody>\n",
       "</table>\n",
       "</div>"
      ],
      "text/plain": [
       "   Unnamed: 0     Name                                             Images  \\\n",
       "1           1  Biryani  https://img.sndimg.com/food/image/upload/w_555...   \n",
       "\n",
       "   RecipeCategory                                           Keywords  \\\n",
       "1  Chicken Breast  Chicken Thigh & Leg, Chicken, Poultry, Meat, A...   \n",
       "\n",
       "                               RecipeIngredientParts  Calories  FatContent  \\\n",
       "1  saffron, milk, hot green chili peppers, onions...    1110.7        58.8   \n",
       "\n",
       "   SaturatedFatContent  CholesterolContent  SodiumContent  \\\n",
       "1                 16.6               372.8          368.4   \n",
       "\n",
       "   CarbohydrateContent  FiberContent  SugarContent  ProteinContent  \\\n",
       "1                 84.4           9.0          20.4            63.4   \n",
       "\n",
       "                                  RecipeInstructions  \n",
       "1  Soak saffron in warm milk for 5 minutes and pu...  "
      ]
     },
     "execution_count": 38,
     "metadata": {},
     "output_type": "execute_result"
    }
   ],
   "source": [
    "food[food['Name']=='Biryani']"
   ]
  },
  {
   "cell_type": "code",
   "execution_count": null,
   "id": "33526930-8921-43b4-a3b5-fcf39e664970",
   "metadata": {},
   "outputs": [],
   "source": []
  }
 ],
 "metadata": {
  "kernelspec": {
   "display_name": "Python 3 (ipykernel)",
   "language": "python",
   "name": "python3"
  },
  "language_info": {
   "codemirror_mode": {
    "name": "ipython",
    "version": 3
   },
   "file_extension": ".py",
   "mimetype": "text/x-python",
   "name": "python",
   "nbconvert_exporter": "python",
   "pygments_lexer": "ipython3",
   "version": "3.11.7"
  }
 },
 "nbformat": 4,
 "nbformat_minor": 5
}
